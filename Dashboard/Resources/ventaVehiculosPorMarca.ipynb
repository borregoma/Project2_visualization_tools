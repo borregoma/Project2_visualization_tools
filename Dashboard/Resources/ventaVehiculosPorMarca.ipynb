{
 "cells": [
  {
   "cell_type": "markdown",
   "metadata": {},
   "source": [
    "### Nota\n",
    "Este código importa todos los archivos .csv que esten en la carpeta VentaVehiculosMexico y los agrupa en un solo DF, contiene los datos de Venta de Vehículos en México del 2005-2021. "
   ]
  },
  {
   "cell_type": "code",
   "execution_count": 1,
   "metadata": {},
   "outputs": [],
   "source": [
    "# Importing dependencies\n",
    "import pandas as pd\n",
    "import glob\n",
    "import geojson\n",
    "import geopandas as gpd\n",
    "import json"
   ]
  },
  {
   "cell_type": "code",
   "execution_count": 2,
   "metadata": {},
   "outputs": [],
   "source": [
    "# Exports CSV\n",
    "path1 = \"VehiculosExportados\" # use your path\n",
    "all_files1 = glob.glob(path1 + \"/*.csv\")\n",
    "li1 = []\n",
    "for filename in all_files1:\n",
    "    df = pd.read_csv(filename, index_col=None, header=0)\n",
    "    li1.append(df)\n",
    "frame1 = pd.concat(li1, axis=0, ignore_index=True)\n",
    "countriesTable = pd.read_csv(\"ExportsMap/tc_pais_destino.csv\")\n",
    "exportsDF = pd.merge(frame1, countriesTable, how=\"left\", left_on=\"ID_PAIS_DESTINO\", right_on=\"ID_PAIS_DESTINO\")\n",
    "brandTotals = exportsDF.groupby(\"MARCA\")[\"UNI_VEH\"].sum().sort_values(ascending=False)\n",
    "top = brandTotals[0:7]\n",
    "years = list(range(2006, 2021))\n",
    "topExportsDF = exportsDF.loc[exportsDF[\"MARCA\"].isin(top.keys())]\n",
    "yearsTopExportsDF = topExportsDF.loc[topExportsDF[\"ANIO\"].isin(years)]\n",
    "exportsCountryYear= yearsTopExportsDF.groupby([\"ANIO\", \"MARCA\"])[\"UNI_VEH\"].sum()\n",
    "exportsCountryYear.to_csv(\"ExportsMap/brandexports.csv\", index=True)\n",
    "\n",
    "# Sales CSV\n",
    "path2 = \"VentaVehiculosMexico\" # use your path\n",
    "all_files2 = glob.glob(path2 + \"/*.csv\")\n",
    "li2 = []\n",
    "for filename in all_files2:\n",
    "    df = pd.read_csv(filename, index_col=None, header=0)\n",
    "    li2.append(df)\n",
    "frame2 = pd.concat(li2, axis=0, ignore_index=True)\n",
    "salesDF = pd.merge(frame2, countriesTable, how=\"left\", left_on=\"ID_PAIS_ORIGEN\", right_on=\"ID_PAIS_DESTINO\")\n",
    "topSalesDF = salesDF.loc[salesDF[\"MARCA\"].isin(top.keys())]\n",
    "yearsTopSalesDF = topSalesDF.loc[topSalesDF[\"ANIO\"].isin(years)]\n",
    "salesCountryYear = yearsTopSalesDF.groupby([\"ANIO\", \"MARCA\"])[\"UNI_VEH\"].sum()\n",
    "salesCountryYear.to_csv(\"ExportsMap/brandsales.csv\", index=True)\n",
    "\n",
    "# Balance CSV\n",
    "balanceCountryYear = exportsCountryYear - salesCountryYear\n",
    "balanceCountryYear.to_csv(\"ExportsMap/brandbalance.csv\", index=True)"
   ]
  },
  {
   "cell_type": "code",
   "execution_count": 3,
   "metadata": {},
   "outputs": [],
   "source": [
    "salesNew = yearsTopSalesDF.groupby([\"ANIO\", \"MARCA\"])[\"UNI_VEH\"].sum().to_frame(name='VEHICULOS').reset_index()\n",
    "exportsNew = yearsTopExportsDF.groupby([\"ANIO\", \"MARCA\"])[\"UNI_VEH\"].sum().to_frame(name='VEHICULOS').reset_index()\n",
    "balanceNew = balanceCountryYear.to_frame(name='VEHICULOS').reset_index()\n"
   ]
  },
  {
   "cell_type": "code",
   "execution_count": 4,
   "metadata": {},
   "outputs": [
    {
     "data": {
      "text/html": [
       "<div>\n",
       "<style scoped>\n",
       "    .dataframe tbody tr th:only-of-type {\n",
       "        vertical-align: middle;\n",
       "    }\n",
       "\n",
       "    .dataframe tbody tr th {\n",
       "        vertical-align: top;\n",
       "    }\n",
       "\n",
       "    .dataframe thead th {\n",
       "        text-align: right;\n",
       "    }\n",
       "</style>\n",
       "<table border=\"1\" class=\"dataframe\">\n",
       "  <thead>\n",
       "    <tr style=\"text-align: right;\">\n",
       "      <th></th>\n",
       "      <th>ANIO</th>\n",
       "      <th>MARCA</th>\n",
       "      <th>VEHICULOS</th>\n",
       "    </tr>\n",
       "  </thead>\n",
       "  <tbody>\n",
       "    <tr>\n",
       "      <th>0</th>\n",
       "      <td>2006</td>\n",
       "      <td>Chrysler</td>\n",
       "      <td>128446</td>\n",
       "    </tr>\n",
       "    <tr>\n",
       "      <th>1</th>\n",
       "      <td>2006</td>\n",
       "      <td>Ford Motor</td>\n",
       "      <td>177595</td>\n",
       "    </tr>\n",
       "    <tr>\n",
       "      <th>2</th>\n",
       "      <td>2006</td>\n",
       "      <td>General Motors</td>\n",
       "      <td>245090</td>\n",
       "    </tr>\n",
       "    <tr>\n",
       "      <th>3</th>\n",
       "      <td>2006</td>\n",
       "      <td>Honda</td>\n",
       "      <td>47471</td>\n",
       "    </tr>\n",
       "    <tr>\n",
       "      <th>4</th>\n",
       "      <td>2006</td>\n",
       "      <td>Nissan</td>\n",
       "      <td>228315</td>\n",
       "    </tr>\n",
       "    <tr>\n",
       "      <th>...</th>\n",
       "      <td>...</td>\n",
       "      <td>...</td>\n",
       "      <td>...</td>\n",
       "    </tr>\n",
       "    <tr>\n",
       "      <th>100</th>\n",
       "      <td>2020</td>\n",
       "      <td>General Motors</td>\n",
       "      <td>150256</td>\n",
       "    </tr>\n",
       "    <tr>\n",
       "      <th>101</th>\n",
       "      <td>2020</td>\n",
       "      <td>Honda</td>\n",
       "      <td>47982</td>\n",
       "    </tr>\n",
       "    <tr>\n",
       "      <th>102</th>\n",
       "      <td>2020</td>\n",
       "      <td>Nissan</td>\n",
       "      <td>194427</td>\n",
       "    </tr>\n",
       "    <tr>\n",
       "      <th>103</th>\n",
       "      <td>2020</td>\n",
       "      <td>Toyota</td>\n",
       "      <td>76577</td>\n",
       "    </tr>\n",
       "    <tr>\n",
       "      <th>104</th>\n",
       "      <td>2020</td>\n",
       "      <td>Volkswagen</td>\n",
       "      <td>99750</td>\n",
       "    </tr>\n",
       "  </tbody>\n",
       "</table>\n",
       "<p>105 rows × 3 columns</p>\n",
       "</div>"
      ],
      "text/plain": [
       "     ANIO           MARCA  VEHICULOS\n",
       "0    2006        Chrysler     128446\n",
       "1    2006      Ford Motor     177595\n",
       "2    2006  General Motors     245090\n",
       "3    2006           Honda      47471\n",
       "4    2006          Nissan     228315\n",
       "..    ...             ...        ...\n",
       "100  2020  General Motors     150256\n",
       "101  2020           Honda      47982\n",
       "102  2020          Nissan     194427\n",
       "103  2020          Toyota      76577\n",
       "104  2020      Volkswagen      99750\n",
       "\n",
       "[105 rows x 3 columns]"
      ]
     },
     "execution_count": 4,
     "metadata": {},
     "output_type": "execute_result"
    }
   ],
   "source": [
    "salesNew"
   ]
  },
  {
   "cell_type": "code",
   "execution_count": 35,
   "metadata": {},
   "outputs": [],
   "source": [
    "salesNew.to_json(\"ExportsMap/brandsales.json\", orient=\"records\")\n",
    "exportsNew.to_json(\"ExportsMap/brandexports.json\", orient=\"records\")\n",
    "balanceNew.to_json(\"ExportsMap/brandbalance.json\", orient=\"records\")\n"
   ]
  },
  {
   "cell_type": "code",
   "execution_count": 18,
   "metadata": {},
   "outputs": [
    {
     "data": {
      "text/plain": [
       "Index(['ANIO', 'MARCA', 'VEHICULOS'], dtype='object')"
      ]
     },
     "execution_count": 18,
     "metadata": {},
     "output_type": "execute_result"
    }
   ],
   "source": [
    "salesNew.columns"
   ]
  },
  {
   "cell_type": "code",
   "execution_count": 5,
   "metadata": {},
   "outputs": [
    {
     "data": {
      "text/plain": [
       "'[\\n    {\\n        \"ANIO\": 2006,\\n        \"MARCA\": \"Chrysler\",\\n        \"VEHICULOS\": 128446\\n    },\\n    {\\n        \"ANIO\": 2006,\\n        \"MARCA\": \"Ford Motor\",\\n        \"VEHICULOS\": 177595\\n    },\\n    {\\n        \"ANIO\": 2006,\\n        \"MARCA\": \"General Motors\",\\n        \"VEHICULOS\": 245090\\n    },\\n    {\\n        \"ANIO\": 2006,\\n        \"MARCA\": \"Honda\",\\n        \"VEHICULOS\": 47471\\n    },\\n    {\\n        \"ANIO\": 2006,\\n        \"MARCA\": \"Nissan\",\\n        \"VEHICULOS\": 228315\\n    },\\n    {\\n        \"ANIO\": 2006,\\n        \"MARCA\": \"Toyota\",\\n        \"VEHICULOS\": 60088\\n    },\\n    {\\n        \"ANIO\": 2006,\\n        \"MARCA\": \"Volkswagen\",\\n        \"VEHICULOS\": 135027\\n    },\\n    {\\n        \"ANIO\": 2007,\\n        \"MARCA\": \"Chrysler\",\\n        \"VEHICULOS\": 128541\\n    },\\n    {\\n        \"ANIO\": 2007,\\n        \"MARCA\": \"Ford Motor\",\\n        \"VEHICULOS\": 147747\\n    },\\n    {\\n        \"ANIO\": 2007,\\n        \"MARCA\": \"General Motors\",\\n        \"VEHICULOS\": 230402\\n    },\\n    {\\n        \"ANIO\": 2007,\\n        \"MARCA\": \"Honda\",\\n        \"VEHICULOS\": 52951\\n    },\\n    {\\n        \"ANIO\": 2007,\\n        \"MARCA\": \"Nissan\",\\n        \"VEHICULOS\": 214121\\n    },\\n    {\\n        \"ANIO\": 2007,\\n        \"MARCA\": \"Toyota\",\\n        \"VEHICULOS\": 66208\\n    },\\n    {\\n        \"ANIO\": 2007,\\n        \"MARCA\": \"Volkswagen\",\\n        \"VEHICULOS\": 133240\\n    },\\n    {\\n        \"ANIO\": 2008,\\n        \"MARCA\": \"Chrysler\",\\n        \"VEHICULOS\": 116137\\n    },\\n    {\\n        \"ANIO\": 2008,\\n        \"MARCA\": \"Ford Motor\",\\n        \"VEHICULOS\": 125516\\n    },\\n    {\\n        \"ANIO\": 2008,\\n        \"MARCA\": \"General Motors\",\\n        \"VEHICULOS\": 212378\\n    },\\n    {\\n        \"ANIO\": 2008,\\n        \"MARCA\": \"Honda\",\\n        \"VEHICULOS\": 54132\\n    },\\n    {\\n        \"ANIO\": 2008,\\n        \"MARCA\": \"Nissan\",\\n        \"VEHICULOS\": 212022\\n    },\\n    {\\n        \"ANIO\": 2008,\\n        \"MARCA\": \"Toyota\",\\n        \"VEHICULOS\": 63306\\n    },\\n    {\\n        \"ANIO\": 2008,\\n        \"MARCA\": \"Volkswagen\",\\n        \"VEHICULOS\": 119400\\n    },\\n    {\\n        \"ANIO\": 2009,\\n        \"MARCA\": \"Chrysler\",\\n        \"VEHICULOS\": 82337\\n    },\\n    {\\n        \"ANIO\": 2009,\\n        \"MARCA\": \"Ford Motor\",\\n        \"VEHICULOS\": 88692\\n    },\\n    {\\n        \"ANIO\": 2009,\\n        \"MARCA\": \"General Motors\",\\n        \"VEHICULOS\": 138482\\n    },\\n    {\\n        \"ANIO\": 2009,\\n        \"MARCA\": \"Honda\",\\n        \"VEHICULOS\": 35245\\n    },\\n    {\\n        \"ANIO\": 2009,\\n        \"MARCA\": \"Nissan\",\\n        \"VEHICULOS\": 156186\\n    },\\n    {\\n        \"ANIO\": 2009,\\n        \"MARCA\": \"Toyota\",\\n        \"VEHICULOS\": 51991\\n    },\\n    {\\n        \"ANIO\": 2009,\\n        \"MARCA\": \"Volkswagen\",\\n        \"VEHICULOS\": 97506\\n    },\\n    {\\n        \"ANIO\": 2010,\\n        \"MARCA\": \"Chrysler\",\\n        \"VEHICULOS\": 78574\\n    },\\n    {\\n        \"ANIO\": 2010,\\n        \"MARCA\": \"Ford Motor\",\\n        \"VEHICULOS\": 86735\\n    },\\n    {\\n        \"ANIO\": 2010,\\n        \"MARCA\": \"General Motors\",\\n        \"VEHICULOS\": 155590\\n    },\\n    {\\n        \"ANIO\": 2010,\\n        \"MARCA\": \"Honda\",\\n        \"VEHICULOS\": 37990\\n    },\\n    {\\n        \"ANIO\": 2010,\\n        \"MARCA\": \"Nissan\",\\n        \"VEHICULOS\": 189518\\n    },\\n    {\\n        \"ANIO\": 2010,\\n        \"MARCA\": \"Toyota\",\\n        \"VEHICULOS\": 46769\\n    },\\n    {\\n        \"ANIO\": 2010,\\n        \"MARCA\": \"Volkswagen\",\\n        \"VEHICULOS\": 110332\\n    },\\n    {\\n        \"ANIO\": 2011,\\n        \"MARCA\": \"Chrysler\",\\n        \"VEHICULOS\": 82072\\n    },\\n    {\\n        \"ANIO\": 2011,\\n        \"MARCA\": \"Ford Motor\",\\n        \"VEHICULOS\": 85988\\n    },\\n    {\\n        \"ANIO\": 2011,\\n        \"MARCA\": \"General Motors\",\\n        \"VEHICULOS\": 168503\\n    },\\n    {\\n        \"ANIO\": 2011,\\n        \"MARCA\": \"Honda\",\\n        \"VEHICULOS\": 34426\\n    },\\n    {\\n        \"ANIO\": 2011,\\n        \"MARCA\": \"Nissan\",\\n        \"VEHICULOS\": 224509\\n    },\\n    {\\n        \"ANIO\": 2011,\\n        \"MARCA\": \"Toyota\",\\n        \"VEHICULOS\": 48589\\n    },\\n    {\\n        \"ANIO\": 2011,\\n        \"MARCA\": \"Volkswagen\",\\n        \"VEHICULOS\": 126831\\n    },\\n    {\\n        \"ANIO\": 2012,\\n        \"MARCA\": \"Chrysler\",\\n        \"VEHICULOS\": 88023\\n    },\\n    {\\n        \"ANIO\": 2012,\\n        \"MARCA\": \"Ford Motor\",\\n        \"VEHICULOS\": 82328\\n    },\\n    {\\n        \"ANIO\": 2012,\\n        \"MARCA\": \"General Motors\",\\n        \"VEHICULOS\": 186383\\n    },\\n    {\\n        \"ANIO\": 2012,\\n        \"MARCA\": \"Honda\",\\n        \"VEHICULOS\": 52351\\n    },\\n    {\\n        \"ANIO\": 2012,\\n        \"MARCA\": \"Nissan\",\\n        \"VEHICULOS\": 244962\\n    },\\n    {\\n        \"ANIO\": 2012,\\n        \"MARCA\": \"Toyota\",\\n        \"VEHICULOS\": 56278\\n    },\\n    {\\n        \"ANIO\": 2012,\\n        \"MARCA\": \"Volkswagen\",\\n        \"VEHICULOS\": 133964\\n    },\\n    {\\n        \"ANIO\": 2013,\\n        \"MARCA\": \"Chrysler\",\\n        \"VEHICULOS\": 78974\\n    },\\n    {\\n        \"ANIO\": 2013,\\n        \"MARCA\": \"Ford Motor\",\\n        \"VEHICULOS\": 85721\\n    },\\n    {\\n        \"ANIO\": 2013,\\n        \"MARCA\": \"General Motors\",\\n        \"VEHICULOS\": 201604\\n    },\\n    {\\n        \"ANIO\": 2013,\\n        \"MARCA\": \"Honda\",\\n        \"VEHICULOS\": 58381\\n    },\\n    {\\n        \"ANIO\": 2013,\\n        \"MARCA\": \"Nissan\",\\n        \"VEHICULOS\": 263477\\n    },\\n    {\\n        \"ANIO\": 2013,\\n        \"MARCA\": \"Toyota\",\\n        \"VEHICULOS\": 60740\\n    },\\n    {\\n        \"ANIO\": 2013,\\n        \"MARCA\": \"Volkswagen\",\\n        \"VEHICULOS\": 156313\\n    },\\n    {\\n        \"ANIO\": 2014,\\n        \"MARCA\": \"Chrysler\",\\n        \"VEHICULOS\": 69013\\n    },\\n    {\\n        \"ANIO\": 2014,\\n        \"MARCA\": \"Ford Motor\",\\n        \"VEHICULOS\": 79097\\n    },\\n    {\\n        \"ANIO\": 2014,\\n        \"MARCA\": \"General Motors\",\\n        \"VEHICULOS\": 216958\\n    },\\n    {\\n        \"ANIO\": 2014,\\n        \"MARCA\": \"Honda\",\\n        \"VEHICULOS\": 60128\\n    },\\n    {\\n        \"ANIO\": 2014,\\n        \"MARCA\": \"Nissan\",\\n        \"VEHICULOS\": 291729\\n    },\\n    {\\n        \"ANIO\": 2014,\\n        \"MARCA\": \"Toyota\",\\n        \"VEHICULOS\": 69597\\n    },\\n    {\\n        \"ANIO\": 2014,\\n        \"MARCA\": \"Volkswagen\",\\n        \"VEHICULOS\": 160088\\n    },\\n    {\\n        \"ANIO\": 2015,\\n        \"MARCA\": \"Chrysler\",\\n        \"VEHICULOS\": 77177\\n    },\\n    {\\n        \"ANIO\": 2015,\\n        \"MARCA\": \"Ford Motor\",\\n        \"VEHICULOS\": 87523\\n    },\\n    {\\n        \"ANIO\": 2015,\\n        \"MARCA\": \"General Motors\",\\n        \"VEHICULOS\": 256150\\n    },\\n    {\\n        \"ANIO\": 2015,\\n        \"MARCA\": \"Honda\",\\n        \"VEHICULOS\": 73505\\n    },\\n    {\\n        \"ANIO\": 2015,\\n        \"MARCA\": \"Nissan\",\\n        \"VEHICULOS\": 347124\\n    },\\n    {\\n        \"ANIO\": 2015,\\n        \"MARCA\": \"Toyota\",\\n        \"VEHICULOS\": 84779\\n    },\\n    {\\n        \"ANIO\": 2015,\\n        \"MARCA\": \"Volkswagen\",\\n        \"VEHICULOS\": 179113\\n    },\\n    {\\n        \"ANIO\": 2016,\\n        \"MARCA\": \"Chrysler\",\\n        \"VEHICULOS\": 77928\\n    },\\n    {\\n        \"ANIO\": 2016,\\n        \"MARCA\": \"Ford Motor\",\\n        \"VEHICULOS\": 99269\\n    },\\n    {\\n        \"ANIO\": 2016,\\n        \"MARCA\": \"General Motors\",\\n        \"VEHICULOS\": 308624\\n    },\\n    {\\n        \"ANIO\": 2016,\\n        \"MARCA\": \"Honda\",\\n        \"VEHICULOS\": 87944\\n    },\\n    {\\n        \"ANIO\": 2016,\\n        \"MARCA\": \"Nissan\",\\n        \"VEHICULOS\": 401055\\n    },\\n    {\\n        \"ANIO\": 2016,\\n        \"MARCA\": \"Toyota\",\\n        \"VEHICULOS\": 104955\\n    },\\n    {\\n        \"ANIO\": 2016,\\n        \"MARCA\": \"Volkswagen\",\\n        \"VEHICULOS\": 206040\\n    },\\n    {\\n        \"ANIO\": 2017,\\n        \"MARCA\": \"Chrysler\",\\n        \"VEHICULOS\": 72685\\n    },\\n    {\\n        \"ANIO\": 2017,\\n        \"MARCA\": \"Ford Motor\",\\n        \"VEHICULOS\": 81698\\n    },\\n    {\\n        \"ANIO\": 2017,\\n        \"MARCA\": \"General Motors\",\\n        \"VEHICULOS\": 258523\\n    },\\n    {\\n        \"ANIO\": 2017,\\n        \"MARCA\": \"Honda\",\\n        \"VEHICULOS\": 88195\\n    },\\n    {\\n        \"ANIO\": 2017,\\n        \"MARCA\": \"Nissan\",\\n        \"VEHICULOS\": 364557\\n    },\\n    {\\n        \"ANIO\": 2017,\\n        \"MARCA\": \"Toyota\",\\n        \"VEHICULOS\": 105464\\n    },\\n    {\\n        \"ANIO\": 2017,\\n        \"MARCA\": \"Volkswagen\",\\n        \"VEHICULOS\": 192704\\n    },\\n    {\\n        \"ANIO\": 2018,\\n        \"MARCA\": \"Chrysler\",\\n        \"VEHICULOS\": 63809\\n    },\\n    {\\n        \"ANIO\": 2018,\\n        \"MARCA\": \"Ford Motor\",\\n        \"VEHICULOS\": 68785\\n    },\\n    {\\n        \"ANIO\": 2018,\\n        \"MARCA\": \"General Motors\",\\n        \"VEHICULOS\": 236069\\n    },\\n    {\\n        \"ANIO\": 2018,\\n        \"MARCA\": \"Honda\",\\n        \"VEHICULOS\": 83821\\n    },\\n    {\\n        \"ANIO\": 2018,\\n        \"MARCA\": \"Nissan\",\\n        \"VEHICULOS\": 312034\\n    },\\n    {\\n        \"ANIO\": 2018,\\n        \"MARCA\": \"Toyota\",\\n        \"VEHICULOS\": 108761\\n    },\\n    {\\n        \"ANIO\": 2018,\\n        \"MARCA\": \"Volkswagen\",\\n        \"VEHICULOS\": 157064\\n    },\\n    {\\n        \"ANIO\": 2019,\\n        \"MARCA\": \"Chrysler\",\\n        \"VEHICULOS\": 55673\\n    },\\n    {\\n        \"ANIO\": 2019,\\n        \"MARCA\": \"Ford Motor\",\\n        \"VEHICULOS\": 57563\\n    },\\n    {\\n        \"ANIO\": 2019,\\n        \"MARCA\": \"General Motors\",\\n        \"VEHICULOS\": 211987\\n    },\\n    {\\n        \"ANIO\": 2019,\\n        \"MARCA\": \"Honda\",\\n        \"VEHICULOS\": 72987\\n    },\\n    {\\n        \"ANIO\": 2019,\\n        \"MARCA\": \"Nissan\",\\n        \"VEHICULOS\": 268156\\n    },\\n    {\\n        \"ANIO\": 2019,\\n        \"MARCA\": \"Toyota\",\\n        \"VEHICULOS\": 105663\\n    },\\n    {\\n        \"ANIO\": 2019,\\n        \"MARCA\": \"Volkswagen\",\\n        \"VEHICULOS\": 143649\\n    },\\n    {\\n        \"ANIO\": 2020,\\n        \"MARCA\": \"Chrysler\",\\n        \"VEHICULOS\": 43678\\n    },\\n    {\\n        \"ANIO\": 2020,\\n        \"MARCA\": \"Ford Motor\",\\n        \"VEHICULOS\": 37162\\n    },\\n    {\\n        \"ANIO\": 2020,\\n        \"MARCA\": \"General Motors\",\\n        \"VEHICULOS\": 150256\\n    },\\n    {\\n        \"ANIO\": 2020,\\n        \"MARCA\": \"Honda\",\\n        \"VEHICULOS\": 47982\\n    },\\n    {\\n        \"ANIO\": 2020,\\n        \"MARCA\": \"Nissan\",\\n        \"VEHICULOS\": 194427\\n    },\\n    {\\n        \"ANIO\": 2020,\\n        \"MARCA\": \"Toyota\",\\n        \"VEHICULOS\": 76577\\n    },\\n    {\\n        \"ANIO\": 2020,\\n        \"MARCA\": \"Volkswagen\",\\n        \"VEHICULOS\": 99750\\n    }\\n]'"
      ]
     },
     "execution_count": 5,
     "metadata": {},
     "output_type": "execute_result"
    }
   ],
   "source": [
    "result = salesNew.to_json(orient=\"records\")\n",
    "parsed = json.loads(result)\n",
    "json.dumps(parsed, indent=4)  "
   ]
  },
  {
   "cell_type": "code",
   "execution_count": null,
   "metadata": {},
   "outputs": [],
   "source": []
  }
 ],
 "metadata": {
  "anaconda-cloud": {},
  "kernel_info": {
   "name": "python3"
  },
  "kernelspec": {
   "display_name": "Python 3 (ipykernel)",
   "language": "python",
   "name": "python3"
  },
  "language_info": {
   "codemirror_mode": {
    "name": "ipython",
    "version": 3
   },
   "file_extension": ".py",
   "mimetype": "text/x-python",
   "name": "python",
   "nbconvert_exporter": "python",
   "pygments_lexer": "ipython3",
   "version": "3.9.6"
  },
  "latex_envs": {
   "LaTeX_envs_menu_present": true,
   "autoclose": false,
   "autocomplete": true,
   "bibliofile": "biblio.bib",
   "cite_by": "apalike",
   "current_citInitial": 1,
   "eqLabelWithNumbers": true,
   "eqNumInitial": 1,
   "hotkeys": {
    "equation": "Ctrl-E",
    "itemize": "Ctrl-I"
   },
   "labels_anchors": false,
   "latex_user_defs": false,
   "report_style_numbering": false,
   "user_envs_cfg": false
  },
  "nteract": {
   "version": "0.8.4"
  }
 },
 "nbformat": 4,
 "nbformat_minor": 1
}
