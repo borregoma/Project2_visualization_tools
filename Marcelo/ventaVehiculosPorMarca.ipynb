{
 "cells": [
  {
   "cell_type": "markdown",
   "metadata": {},
   "source": [
    "### Nota\n",
    "Este código importa todos los archivos .csv que esten en la carpeta VentaVehiculosMexico y los agrupa en un solo DF, contiene los datos de Venta de Vehículos en México del 2005-2021. "
   ]
  },
  {
   "cell_type": "code",
   "execution_count": 154,
   "metadata": {},
   "outputs": [],
   "source": [
    "# Importing dependencies\n",
    "import pandas as pd\n",
    "import glob\n",
    "import geojson\n",
    "import geopandas as gpd"
   ]
  },
  {
   "cell_type": "code",
   "execution_count": 166,
   "metadata": {},
   "outputs": [],
   "source": [
    "# Exports CSV\n",
    "path1 = \"VehiculosExportados\" # use your path\n",
    "all_files1 = glob.glob(path1 + \"/*.csv\")\n",
    "li1 = []\n",
    "for filename in all_files1:\n",
    "    df = pd.read_csv(filename, index_col=None, header=0)\n",
    "    li1.append(df)\n",
    "frame1 = pd.concat(li1, axis=0, ignore_index=True)\n",
    "countriesTable = pd.read_csv(\"ExportsMap/tc_pais_destino.csv\")\n",
    "exportsDF = pd.merge(frame1, countriesTable, how=\"left\", left_on=\"ID_PAIS_DESTINO\", right_on=\"ID_PAIS_DESTINO\")\n",
    "brandTotals = exportsDF.groupby(\"MARCA\")[\"UNI_VEH\"].sum().sort_values(ascending=False)\n",
    "top = brandTotals[0:7]\n",
    "years = list(range(2006, 2021))\n",
    "topExportsDF = exportsDF.loc[exportsDF[\"MARCA\"].isin(top.keys())]\n",
    "yearsTopExportsDF = topExportsDF.loc[topExportsDF[\"ANIO\"].isin(years)]\n",
    "exportsCountryYear= yearsTopExportsDF.groupby([\"ANIO\", \"MARCA\"])[\"UNI_VEH\"].sum()\n",
    "exportsCountryYear.to_csv(\"ExportsMap/brandexports.csv\", index=True)\n",
    "\n",
    "# Sales CSV\n",
    "path2 = \"VentaVehiculosMexico\" # use your path\n",
    "all_files2 = glob.glob(path2 + \"/*.csv\")\n",
    "li2 = []\n",
    "for filename in all_files2:\n",
    "    df = pd.read_csv(filename, index_col=None, header=0)\n",
    "    li2.append(df)\n",
    "frame2 = pd.concat(li2, axis=0, ignore_index=True)\n",
    "salesDF = pd.merge(frame2, countriesTable, how=\"left\", left_on=\"ID_PAIS_ORIGEN\", right_on=\"ID_PAIS_DESTINO\")\n",
    "topSalesDF = salesDF.loc[salesDF[\"MARCA\"].isin(top.keys())]\n",
    "yearsTopSalesDF = topSalesDF.loc[topSalesDF[\"ANIO\"].isin(years)]\n",
    "salesCountryYear = yearsTopSalesDF.groupby([\"ANIO\", \"MARCA\"])[\"UNI_VEH\"].sum()\n",
    "salesCountryYear.to_csv(\"ExportsMap/brandsales.csv\", index=True)\n",
    "\n",
    "# Balance CSV\n",
    "balanceCountryYear = exportsCountryYear - salesCountryYear\n",
    "balanceCountryYear.to_csv(\"ExportsMap/brandbalance.csv\", index=True)"
   ]
  },
  {
   "cell_type": "code",
   "execution_count": null,
   "metadata": {},
   "outputs": [],
   "source": []
  },
  {
   "cell_type": "code",
   "execution_count": null,
   "metadata": {},
   "outputs": [],
   "source": []
  }
 ],
 "metadata": {
  "anaconda-cloud": {},
  "kernel_info": {
   "name": "python3"
  },
  "kernelspec": {
   "display_name": "Python 3",
   "language": "python",
   "name": "python3"
  },
  "language_info": {
   "codemirror_mode": {
    "name": "ipython",
    "version": 3
   },
   "file_extension": ".py",
   "mimetype": "text/x-python",
   "name": "python",
   "nbconvert_exporter": "python",
   "pygments_lexer": "ipython3",
   "version": "3.8.5"
  },
  "latex_envs": {
   "LaTeX_envs_menu_present": true,
   "autoclose": false,
   "autocomplete": true,
   "bibliofile": "biblio.bib",
   "cite_by": "apalike",
   "current_citInitial": 1,
   "eqLabelWithNumbers": true,
   "eqNumInitial": 1,
   "hotkeys": {
    "equation": "Ctrl-E",
    "itemize": "Ctrl-I"
   },
   "labels_anchors": false,
   "latex_user_defs": false,
   "report_style_numbering": false,
   "user_envs_cfg": false
  },
  "nteract": {
   "version": "0.8.4"
  }
 },
 "nbformat": 4,
 "nbformat_minor": 1
}
